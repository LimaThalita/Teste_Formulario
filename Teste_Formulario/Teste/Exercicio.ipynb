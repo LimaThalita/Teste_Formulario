{
 "cells": [
  {
   "cell_type": "code",
   "execution_count": 21,
   "id": "e10dc836-b7aa-4464-921b-450804ebd9b7",
   "metadata": {},
   "outputs": [],
   "source": [
    "\n",
    "import pyautogui\n",
    "import time\n",
    "\n",
    "time.sleep(2)\n",
    "pyautogui.press(\"win\")\n",
    "time.sleep(2)\n",
    "pyautogui.write(\"Edge\")\n",
    "time.sleep(2)\n",
    "pyautogui.press(\"enter\")\n",
    "time.sleep(2)\n",
    "pyautogui.write(\"http://127.0.0.1:5500/1000/index.html\")\n",
    "pyautogui.press(\"enter\")\n",
    "time.sleep(2)\n",
    "pyautogui.position(x=None, y=None) \n",
    "pyautogui.moveTo(425, 316)\n",
    "pyautogui.mouseDown()\n",
    "time.sleep(1)\n",
    "pyautogui.write(\"Thalita Vitória Epifanio de Lima\")\n",
    "pyautogui.press(\"enter\")\n",
    "pyautogui.write(\"ThalitaLima\")\n",
    "pyautogui.press(\"enter\")\n",
    "pyautogui.write(\"Thaina29\")\n",
    "pyautogui.press(\"enter\")\n",
    "pyautogui.write(\"Thaina29\")\n",
    "time.sleep(1)\n",
    "pyautogui.hotkey('tab','enter')\n"
   ]
  },
  {
   "cell_type": "code",
   "execution_count": null,
   "id": "31644373-ecdf-46f5-8e6d-86b4fe044078",
   "metadata": {},
   "outputs": [],
   "source": []
  }
 ],
 "metadata": {
  "kernelspec": {
   "display_name": "Python 3 (ipykernel)",
   "language": "python",
   "name": "python3"
  },
  "language_info": {
   "codemirror_mode": {
    "name": "ipython",
    "version": 3
   },
   "file_extension": ".py",
   "mimetype": "text/x-python",
   "name": "python",
   "nbconvert_exporter": "python",
   "pygments_lexer": "ipython3",
   "version": "3.12.4"
  }
 },
 "nbformat": 4,
 "nbformat_minor": 5
}
